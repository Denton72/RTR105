{
 "cells": [
  {
   "cell_type": "code",
   "execution_count": 1,
   "metadata": {},
   "outputs": [
    {
     "name": "stdout",
     "output_type": "stream",
     "text": [
      "Dotajā intervālā sakne(s) ir!\n",
      "Sakne ir: 4.99993896484375\n"
     ]
    },
    {
     "name": "stderr",
     "output_type": "stream",
     "text": [
      "/usr/local/anaconda3/lib/python3.6/site-packages/ipykernel_launcher.py:5: RuntimeWarning: invalid value encountered in arcsin\n",
      "  \"\"\"\n"
     ]
    }
   ],
   "source": [
    "from numpy import *\n",
    "from time import sleep\n",
    "\n",
    "def f(x):\n",
    "    return arcsin(sqrt(x))*arcsin(sqrt(x))\n",
    "\n",
    "a = 1\n",
    "b = 5\n",
    "\n",
    "funa = f(a)\n",
    "funb = f(b)\n",
    "\n",
    "if (funa * funb > 0.0):\n",
    "    print(\"Dotajā intervālā [%s, %s] sakņu nav\"%(a,b))  \n",
    "    sleep(1); exit()\n",
    "else:\n",
    "    print(\"Dotajā intervālā sakne(s) ir!\")\n",
    "\n",
    "deltax = 0.0001\n",
    "\n",
    "while ( fabs(b-a) > deltax ):\n",
    "    x = (a+b)/2; funx = f(x)\n",
    "    if ( funa*funx < 0. ):\n",
    "        b = x\n",
    "    else:\n",
    "        a = x\n",
    "\n",
    "print(\"Sakne ir:\", x)"
   ]
  },
  {
   "cell_type": "code",
   "execution_count": null,
   "metadata": {},
   "outputs": [],
   "source": []
  }
 ],
 "metadata": {
  "kernelspec": {
   "display_name": "Python 3",
   "language": "python",
   "name": "python3"
  },
  "language_info": {
   "codemirror_mode": {
    "name": "ipython",
    "version": 3
   },
   "file_extension": ".py",
   "mimetype": "text/x-python",
   "name": "python",
   "nbconvert_exporter": "python",
   "pygments_lexer": "ipython3",
   "version": "3.6.4"
  }
 },
 "nbformat": 4,
 "nbformat_minor": 2
}
